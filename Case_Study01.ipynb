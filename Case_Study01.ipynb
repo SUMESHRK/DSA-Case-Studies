{
 "cells": [
  {
   "cell_type": "markdown",
   "id": "031c9183",
   "metadata": {},
   "source": [
    "# Read the dataset to the python environment"
   ]
  },
  {
   "cell_type": "code",
   "execution_count": 2,
   "id": "3183a66f",
   "metadata": {},
   "outputs": [
    {
     "name": "stdout",
     "output_type": "stream",
     "text": [
      "         Make        Model    Nickname Car Gender Buyer Gender  Buyer Age  \\\n",
      "0      Suzuki       Vitara  Philippine     Female       Female         51   \n",
      "1       Honda        S2000      Henrik       Male         Male         30   \n",
      "2         BMW           Z4      Lebbie       Male       Female         54   \n",
      "3      Toyota       Tacoma    Jefferey     Female         Male         68   \n",
      "4        Ford      Festiva     Glendon     Female         Male         70   \n",
      "...       ...          ...         ...        ...          ...        ...   \n",
      "9995    Mazda      Tribute      Cooper       Male         Male         44   \n",
      "9996      GMC  Sierra 2500         Dud       Male         Male         40   \n",
      "9997  Mercury      Mariner     Chariot       Male         Male         37   \n",
      "9998   Daewoo      Leganza       Dynah     Female       Female         21   \n",
      "9999   Toyota      Sequoia    Zedekiah     Female         Male         21   \n",
      "\n",
      "           Buzzword      Country             City  Dealer Latitude  \\\n",
      "0     User-friendly      Belgium        Antwerpen        51.247239   \n",
      "1         analyzing        China            Jinhu        33.025433   \n",
      "2          software        China             Gemo        30.916207   \n",
      "3        monitoring     Portugal  Queluz de Baixo        38.745168   \n",
      "4          Sharable       Latvia         Jaunpils        56.729980   \n",
      "...             ...          ...              ...              ...   \n",
      "9995       hardware     Pakistan  Chishtiān Mandi        29.919386   \n",
      "9996       Enhanced   Costa Rica          Ángeles        10.075000   \n",
      "9997     monitoring       Poland        Dąbrowice        52.311923   \n",
      "9998       cohesive  Philippines         Villasis        15.901640   \n",
      "9999      analyzing  Philippines            Basud        14.048167   \n",
      "\n",
      "      Dealer Longitude    Color  New Car Purchase Date  Sale Price  Discount  \\\n",
      "0             4.440346   Yellow    False    19/07/2009    54806.14    0.2467   \n",
      "1           119.020584  Crimson    False    26/10/2015    51826.30    0.3147   \n",
      "2           121.677640    Khaki    False    28/03/2010    82929.14    0.5414   \n",
      "3            -9.267087     Puce    False    07/05/2008    56928.66    0.0850   \n",
      "4            23.016588   Yellow    False    01/06/2008    77201.26    0.1642   \n",
      "...                ...      ...      ...           ...         ...       ...   \n",
      "9995         73.074787     Pink    False    05/01/2020    58580.65    0.1611   \n",
      "9996        -84.241523     Puce    False    28/12/2005    75229.74    0.2691   \n",
      "9997         19.084965     Blue    False    08/03/2013    34755.44    0.2493   \n",
      "9998        120.587828     Teal     True    21/02/2008    98725.42    0.4654   \n",
      "9999        122.955697     Pink    False    16/12/2017    96769.78    0.5446   \n",
      "\n",
      "      Resell Price  5-yr Depreciation  Top Speed  0-60 Time  \n",
      "0         33858.32               0.13      200.9       11.5  \n",
      "1          2989.28               0.02      158.5        8.8  \n",
      "2         35049.16               0.24      149.5       14.4  \n",
      "3          8236.15               0.20      153.3       11.5  \n",
      "4         32765.76               0.18      122.0       14.9  \n",
      "...            ...                ...        ...        ...  \n",
      "9995      42640.82               0.14      245.8        8.0  \n",
      "9996      21115.58               0.11      147.4       12.3  \n",
      "9997       2731.25               0.12      198.1       11.8  \n",
      "9998      18718.58               0.04      206.7       12.2  \n",
      "9999       4545.95               0.07      242.1        3.2  \n",
      "\n",
      "[10000 rows x 20 columns]\n"
     ]
    }
   ],
   "source": [
    "import pandas as pd\n",
    "\n",
    "df = pd.read_csv('cars_data.csv')  # read csv file\n",
    "print(df)                          # print data"
   ]
  },
  {
   "cell_type": "markdown",
   "id": "4ee74417",
   "metadata": {},
   "source": [
    "# Check for the null values present in the dataset"
   ]
  },
  {
   "cell_type": "code",
   "execution_count": 3,
   "id": "8af88eca",
   "metadata": {},
   "outputs": [
    {
     "name": "stdout",
     "output_type": "stream",
     "text": [
      "       Make  Model  Nickname  Car Gender  Buyer Gender  Buyer Age  Buzzword  \\\n",
      "0     False  False     False       False         False      False     False   \n",
      "1     False  False     False       False         False      False     False   \n",
      "2     False  False     False       False         False      False     False   \n",
      "3     False  False     False       False         False      False     False   \n",
      "4     False  False     False       False         False      False     False   \n",
      "...     ...    ...       ...         ...           ...        ...       ...   \n",
      "9995  False  False     False       False         False      False     False   \n",
      "9996  False  False     False       False         False      False     False   \n",
      "9997  False  False     False       False         False      False     False   \n",
      "9998  False  False     False       False         False      False     False   \n",
      "9999  False  False     False       False         False      False     False   \n",
      "\n",
      "      Country   City  Dealer Latitude  Dealer Longitude  Color  New Car  \\\n",
      "0       False  False            False             False  False    False   \n",
      "1       False  False            False             False  False    False   \n",
      "2       False  False            False             False  False    False   \n",
      "3       False  False            False             False  False    False   \n",
      "4       False  False            False             False  False    False   \n",
      "...       ...    ...              ...               ...    ...      ...   \n",
      "9995    False  False            False             False  False    False   \n",
      "9996    False  False            False             False  False    False   \n",
      "9997    False  False            False             False  False    False   \n",
      "9998    False  False            False             False  False    False   \n",
      "9999    False  False            False             False  False    False   \n",
      "\n",
      "      Purchase Date  Sale Price  Discount  Resell Price  5-yr Depreciation  \\\n",
      "0             False       False     False         False              False   \n",
      "1             False       False     False         False              False   \n",
      "2             False       False     False         False              False   \n",
      "3             False       False     False         False              False   \n",
      "4             False       False     False         False              False   \n",
      "...             ...         ...       ...           ...                ...   \n",
      "9995          False       False     False         False              False   \n",
      "9996          False       False     False         False              False   \n",
      "9997          False       False     False         False              False   \n",
      "9998          False       False     False         False              False   \n",
      "9999          False       False     False         False              False   \n",
      "\n",
      "      Top Speed  0-60 Time  \n",
      "0         False      False  \n",
      "1         False      False  \n",
      "2         False      False  \n",
      "3         False      False  \n",
      "4         False      False  \n",
      "...         ...        ...  \n",
      "9995      False      False  \n",
      "9996      False      False  \n",
      "9997      False      False  \n",
      "9998      False      False  \n",
      "9999      False      False  \n",
      "\n",
      "[10000 rows x 20 columns]\n"
     ]
    },
    {
     "data": {
      "text/plain": [
       "Make                 0\n",
       "Model                0\n",
       "Nickname             0\n",
       "Car Gender           0\n",
       "Buyer Gender         0\n",
       "Buyer Age            0\n",
       "Buzzword             0\n",
       "Country              0\n",
       "City                 0\n",
       "Dealer Latitude      0\n",
       "Dealer Longitude     0\n",
       "Color                0\n",
       "New Car              0\n",
       "Purchase Date        0\n",
       "Sale Price           0\n",
       "Discount             0\n",
       "Resell Price         0\n",
       "5-yr Depreciation    0\n",
       "Top Speed            0\n",
       "0-60 Time            0\n",
       "dtype: int64"
      ]
     },
     "execution_count": 3,
     "metadata": {},
     "output_type": "execute_result"
    }
   ],
   "source": [
    "print(df.isna())  #check for null values under each column variable\n",
    "df.isna().sum()   #find total null values "
   ]
  },
  {
   "cell_type": "markdown",
   "id": "57d2affc",
   "metadata": {},
   "source": [
    "# Plot a bar graph of male vs female buyers participated in the sales"
   ]
  },
  {
   "cell_type": "code",
   "execution_count": 4,
   "id": "9e237f6f",
   "metadata": {},
   "outputs": [
    {
     "data": {
      "image/png": "[encoded data removed]",
      "text/plain": [
       "<Figure size 432x288 with 1 Axes>"
      ]
     },
     "metadata": {
      "needs_background": "light"
     },
     "output_type": "display_data"
    }
   ],
   "source": [
    "import pandas as pd\n",
    "import seaborn as sns\n",
    "import matplotlib.pyplot as plt\n",
    "\n",
    "# find the number of female and male buyers\n",
    "gender_counted = df['Buyer Gender'].value_counts() \n",
    "\n",
    "#create a list\n",
    "data1 = {'Gender':['Female', 'Male'],\n",
    "        'Count':[gender_counted[0], gender_counted[1]]}\n",
    "\n",
    "#create a dataframe\n",
    "df_plt = pd.DataFrame(data1)\n",
    "\n",
    "#plot the data with seaborn function\n",
    "sns.barplot(data=df_plt, x=\"Gender\", y=\"Count\")\n",
    "plt.yticks(fontname=\"Arial\", fontsize=14)\n",
    "plt.xticks(fontname=\"Arial\", fontsize=14)\n",
    "plt.xlabel(\"Gender\",fontname=\"Arial\", fontsize=16)\n",
    "plt.ylabel(\"Count\",fontname=\"Arial\", fontsize=16)\n",
    "plt.show()"
   ]
  },
  {
   "cell_type": "markdown",
   "id": "0f735470",
   "metadata": {},
   "source": [
    "# Find the top 5 cars based on their sales price"
   ]
  },
  {
   "cell_type": "code",
   "execution_count": 5,
   "id": "56ad52eb",
   "metadata": {},
   "outputs": [
    {
     "name": "stdout",
     "output_type": "stream",
     "text": [
      "Top five cars are:\n",
      " Volkswagen\n",
      "      Audi\n",
      "     Lexus\n",
      "     Mazda\n",
      "     Lexus\n"
     ]
    }
   ],
   "source": [
    "#find five largest price cars\n",
    "top5 = df.nlargest(5, ['Sale Price'])\n",
    "\n",
    "#print the names of cars\n",
    "print(\"Top five cars are:\\n\",top5.Make.to_string(index=False, header=False))"
   ]
  },
  {
   "cell_type": "markdown",
   "id": "283b6fef",
   "metadata": {},
   "source": [
    "# Find the least 5 cars based on their Resell price"
   ]
  },
  {
   "cell_type": "code",
   "execution_count": 7,
   "id": "47bcbc2d",
   "metadata": {},
   "outputs": [
    {
     "name": "stdout",
     "output_type": "stream",
     "text": [
      "Least five cars are: \n",
      "  Chevrolet\n",
      "       GMC\n",
      "    Jaguar\n",
      "Mitsubishi\n",
      "  Infiniti\n"
     ]
    }
   ],
   "source": [
    "#find least price cars\n",
    "least5 = df.nsmallest(5, ['Resell Price'])\n",
    "\n",
    "#print the car names\n",
    "print(\"Least five cars are: \\n\",least5.Make.to_string(index=False, header=False))"
   ]
  },
  {
   "cell_type": "code",
   "execution_count": null,
   "id": "8935305f",
   "metadata": {},
   "outputs": [],
   "source": []
  }
 ],
 "metadata": {
  "kernelspec": {
   "display_name": "Python 3 (ipykernel)",
   "language": "python",
   "name": "python3"
  },
  "language_info": {
   "codemirror_mode": {
    "name": "ipython",
    "version": 3
   },
   "file_extension": ".py",
   "mimetype": "text/x-python",
   "name": "python",
   "nbconvert_exporter": "python",
   "pygments_lexer": "ipython3",
   "version": "3.9.7"
  }
 },
 "nbformat": 4,
 "nbformat_minor": 5
}
